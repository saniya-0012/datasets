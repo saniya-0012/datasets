{
 "cells": [
  {
   "cell_type": "markdown",
   "id": "e26edb60",
   "metadata": {},
   "source": [
    "# Internship Task "
   ]
  },
  {
   "cell_type": "raw",
   "id": "933255a5",
   "metadata": {},
   "source": [
    "Name:Pradnya Ekad\n",
    "College-Keystone School Of Engineering\n",
    "Problem Statement No: 0"
   ]
  },
  {
   "cell_type": "code",
   "execution_count": 2,
   "id": "24a1149b",
   "metadata": {},
   "outputs": [],
   "source": [
    "#Importing the python Libraries\n",
    "import pandas as pd\n",
    "import numpy as np\n",
    "import matplotlib.pyplot as plt"
   ]
  },
  {
   "cell_type": "code",
   "execution_count": 3,
   "id": "eb39e978",
   "metadata": {},
   "outputs": [],
   "source": [
    "#Read the Dataset\n",
    "df=pd.read_csv('winemag-data-130k-v2.csv')"
   ]
  },
  {
   "cell_type": "code",
   "execution_count": 4,
   "id": "76f5296b",
   "metadata": {},
   "outputs": [
    {
     "data": {
      "text/html": [
       "<div>\n",
       "<style scoped>\n",
       "    .dataframe tbody tr th:only-of-type {\n",
       "        vertical-align: middle;\n",
       "    }\n",
       "\n",
       "    .dataframe tbody tr th {\n",
       "        vertical-align: top;\n",
       "    }\n",
       "\n",
       "    .dataframe thead th {\n",
       "        text-align: right;\n",
       "    }\n",
       "</style>\n",
       "<table border=\"1\" class=\"dataframe\">\n",
       "  <thead>\n",
       "    <tr style=\"text-align: right;\">\n",
       "      <th></th>\n",
       "      <th>Unnamed: 0</th>\n",
       "      <th>country</th>\n",
       "      <th>description</th>\n",
       "      <th>designation</th>\n",
       "      <th>points</th>\n",
       "      <th>price</th>\n",
       "      <th>province</th>\n",
       "      <th>region_1</th>\n",
       "      <th>region_2</th>\n",
       "      <th>taster_name</th>\n",
       "      <th>taster_twitter_handle</th>\n",
       "      <th>title</th>\n",
       "      <th>variety</th>\n",
       "      <th>winery</th>\n",
       "    </tr>\n",
       "  </thead>\n",
       "  <tbody>\n",
       "    <tr>\n",
       "      <th>0</th>\n",
       "      <td>0</td>\n",
       "      <td>Italy</td>\n",
       "      <td>Aromas include tropical fruit, broom, brimston...</td>\n",
       "      <td>Vulkà Bianco</td>\n",
       "      <td>87</td>\n",
       "      <td>NaN</td>\n",
       "      <td>Sicily &amp; Sardinia</td>\n",
       "      <td>Etna</td>\n",
       "      <td>NaN</td>\n",
       "      <td>Kerin O’Keefe</td>\n",
       "      <td>@kerinokeefe</td>\n",
       "      <td>Nicosia 2013 Vulkà Bianco  (Etna)</td>\n",
       "      <td>White Blend</td>\n",
       "      <td>Nicosia</td>\n",
       "    </tr>\n",
       "    <tr>\n",
       "      <th>1</th>\n",
       "      <td>1</td>\n",
       "      <td>Portugal</td>\n",
       "      <td>This is ripe and fruity, a wine that is smooth...</td>\n",
       "      <td>Avidagos</td>\n",
       "      <td>87</td>\n",
       "      <td>15.0</td>\n",
       "      <td>Douro</td>\n",
       "      <td>NaN</td>\n",
       "      <td>NaN</td>\n",
       "      <td>Roger Voss</td>\n",
       "      <td>@vossroger</td>\n",
       "      <td>Quinta dos Avidagos 2011 Avidagos Red (Douro)</td>\n",
       "      <td>Portuguese Red</td>\n",
       "      <td>Quinta dos Avidagos</td>\n",
       "    </tr>\n",
       "    <tr>\n",
       "      <th>2</th>\n",
       "      <td>2</td>\n",
       "      <td>US</td>\n",
       "      <td>Tart and snappy, the flavors of lime flesh and...</td>\n",
       "      <td>NaN</td>\n",
       "      <td>87</td>\n",
       "      <td>14.0</td>\n",
       "      <td>Oregon</td>\n",
       "      <td>Willamette Valley</td>\n",
       "      <td>Willamette Valley</td>\n",
       "      <td>Paul Gregutt</td>\n",
       "      <td>@paulgwine</td>\n",
       "      <td>Rainstorm 2013 Pinot Gris (Willamette Valley)</td>\n",
       "      <td>Pinot Gris</td>\n",
       "      <td>Rainstorm</td>\n",
       "    </tr>\n",
       "    <tr>\n",
       "      <th>3</th>\n",
       "      <td>3</td>\n",
       "      <td>US</td>\n",
       "      <td>Pineapple rind, lemon pith and orange blossom ...</td>\n",
       "      <td>Reserve Late Harvest</td>\n",
       "      <td>87</td>\n",
       "      <td>13.0</td>\n",
       "      <td>Michigan</td>\n",
       "      <td>Lake Michigan Shore</td>\n",
       "      <td>NaN</td>\n",
       "      <td>Alexander Peartree</td>\n",
       "      <td>NaN</td>\n",
       "      <td>St. Julian 2013 Reserve Late Harvest Riesling ...</td>\n",
       "      <td>Riesling</td>\n",
       "      <td>St. Julian</td>\n",
       "    </tr>\n",
       "    <tr>\n",
       "      <th>4</th>\n",
       "      <td>4</td>\n",
       "      <td>US</td>\n",
       "      <td>Much like the regular bottling from 2012, this...</td>\n",
       "      <td>Vintner's Reserve Wild Child Block</td>\n",
       "      <td>87</td>\n",
       "      <td>65.0</td>\n",
       "      <td>Oregon</td>\n",
       "      <td>Willamette Valley</td>\n",
       "      <td>Willamette Valley</td>\n",
       "      <td>Paul Gregutt</td>\n",
       "      <td>@paulgwine</td>\n",
       "      <td>Sweet Cheeks 2012 Vintner's Reserve Wild Child...</td>\n",
       "      <td>Pinot Noir</td>\n",
       "      <td>Sweet Cheeks</td>\n",
       "    </tr>\n",
       "    <tr>\n",
       "      <th>...</th>\n",
       "      <td>...</td>\n",
       "      <td>...</td>\n",
       "      <td>...</td>\n",
       "      <td>...</td>\n",
       "      <td>...</td>\n",
       "      <td>...</td>\n",
       "      <td>...</td>\n",
       "      <td>...</td>\n",
       "      <td>...</td>\n",
       "      <td>...</td>\n",
       "      <td>...</td>\n",
       "      <td>...</td>\n",
       "      <td>...</td>\n",
       "      <td>...</td>\n",
       "    </tr>\n",
       "    <tr>\n",
       "      <th>129966</th>\n",
       "      <td>129966</td>\n",
       "      <td>Germany</td>\n",
       "      <td>Notes of honeysuckle and cantaloupe sweeten th...</td>\n",
       "      <td>Brauneberger Juffer-Sonnenuhr Spätlese</td>\n",
       "      <td>90</td>\n",
       "      <td>28.0</td>\n",
       "      <td>Mosel</td>\n",
       "      <td>NaN</td>\n",
       "      <td>NaN</td>\n",
       "      <td>Anna Lee C. Iijima</td>\n",
       "      <td>NaN</td>\n",
       "      <td>Dr. H. Thanisch (Erben Müller-Burggraef) 2013 ...</td>\n",
       "      <td>Riesling</td>\n",
       "      <td>Dr. H. Thanisch (Erben Müller-Burggraef)</td>\n",
       "    </tr>\n",
       "    <tr>\n",
       "      <th>129967</th>\n",
       "      <td>129967</td>\n",
       "      <td>US</td>\n",
       "      <td>Citation is given as much as a decade of bottl...</td>\n",
       "      <td>NaN</td>\n",
       "      <td>90</td>\n",
       "      <td>75.0</td>\n",
       "      <td>Oregon</td>\n",
       "      <td>Oregon</td>\n",
       "      <td>Oregon Other</td>\n",
       "      <td>Paul Gregutt</td>\n",
       "      <td>@paulgwine</td>\n",
       "      <td>Citation 2004 Pinot Noir (Oregon)</td>\n",
       "      <td>Pinot Noir</td>\n",
       "      <td>Citation</td>\n",
       "    </tr>\n",
       "    <tr>\n",
       "      <th>129968</th>\n",
       "      <td>129968</td>\n",
       "      <td>France</td>\n",
       "      <td>Well-drained gravel soil gives this wine its c...</td>\n",
       "      <td>Kritt</td>\n",
       "      <td>90</td>\n",
       "      <td>30.0</td>\n",
       "      <td>Alsace</td>\n",
       "      <td>Alsace</td>\n",
       "      <td>NaN</td>\n",
       "      <td>Roger Voss</td>\n",
       "      <td>@vossroger</td>\n",
       "      <td>Domaine Gresser 2013 Kritt Gewurztraminer (Als...</td>\n",
       "      <td>Gewürztraminer</td>\n",
       "      <td>Domaine Gresser</td>\n",
       "    </tr>\n",
       "    <tr>\n",
       "      <th>129969</th>\n",
       "      <td>129969</td>\n",
       "      <td>France</td>\n",
       "      <td>A dry style of Pinot Gris, this is crisp with ...</td>\n",
       "      <td>NaN</td>\n",
       "      <td>90</td>\n",
       "      <td>32.0</td>\n",
       "      <td>Alsace</td>\n",
       "      <td>Alsace</td>\n",
       "      <td>NaN</td>\n",
       "      <td>Roger Voss</td>\n",
       "      <td>@vossroger</td>\n",
       "      <td>Domaine Marcel Deiss 2012 Pinot Gris (Alsace)</td>\n",
       "      <td>Pinot Gris</td>\n",
       "      <td>Domaine Marcel Deiss</td>\n",
       "    </tr>\n",
       "    <tr>\n",
       "      <th>129970</th>\n",
       "      <td>129970</td>\n",
       "      <td>France</td>\n",
       "      <td>Big, rich and off-dry, this is powered by inte...</td>\n",
       "      <td>Lieu-dit Harth Cuvée Caroline</td>\n",
       "      <td>90</td>\n",
       "      <td>21.0</td>\n",
       "      <td>Alsace</td>\n",
       "      <td>Alsace</td>\n",
       "      <td>NaN</td>\n",
       "      <td>Roger Voss</td>\n",
       "      <td>@vossroger</td>\n",
       "      <td>Domaine Schoffit 2012 Lieu-dit Harth Cuvée Car...</td>\n",
       "      <td>Gewürztraminer</td>\n",
       "      <td>Domaine Schoffit</td>\n",
       "    </tr>\n",
       "  </tbody>\n",
       "</table>\n",
       "<p>129971 rows × 14 columns</p>\n",
       "</div>"
      ],
      "text/plain": [
       "        Unnamed: 0   country  \\\n",
       "0                0     Italy   \n",
       "1                1  Portugal   \n",
       "2                2        US   \n",
       "3                3        US   \n",
       "4                4        US   \n",
       "...            ...       ...   \n",
       "129966      129966   Germany   \n",
       "129967      129967        US   \n",
       "129968      129968    France   \n",
       "129969      129969    France   \n",
       "129970      129970    France   \n",
       "\n",
       "                                              description  \\\n",
       "0       Aromas include tropical fruit, broom, brimston...   \n",
       "1       This is ripe and fruity, a wine that is smooth...   \n",
       "2       Tart and snappy, the flavors of lime flesh and...   \n",
       "3       Pineapple rind, lemon pith and orange blossom ...   \n",
       "4       Much like the regular bottling from 2012, this...   \n",
       "...                                                   ...   \n",
       "129966  Notes of honeysuckle and cantaloupe sweeten th...   \n",
       "129967  Citation is given as much as a decade of bottl...   \n",
       "129968  Well-drained gravel soil gives this wine its c...   \n",
       "129969  A dry style of Pinot Gris, this is crisp with ...   \n",
       "129970  Big, rich and off-dry, this is powered by inte...   \n",
       "\n",
       "                                   designation  points  price  \\\n",
       "0                                 Vulkà Bianco      87    NaN   \n",
       "1                                     Avidagos      87   15.0   \n",
       "2                                          NaN      87   14.0   \n",
       "3                         Reserve Late Harvest      87   13.0   \n",
       "4           Vintner's Reserve Wild Child Block      87   65.0   \n",
       "...                                        ...     ...    ...   \n",
       "129966  Brauneberger Juffer-Sonnenuhr Spätlese      90   28.0   \n",
       "129967                                     NaN      90   75.0   \n",
       "129968                                   Kritt      90   30.0   \n",
       "129969                                     NaN      90   32.0   \n",
       "129970           Lieu-dit Harth Cuvée Caroline      90   21.0   \n",
       "\n",
       "                 province             region_1           region_2  \\\n",
       "0       Sicily & Sardinia                 Etna                NaN   \n",
       "1                   Douro                  NaN                NaN   \n",
       "2                  Oregon    Willamette Valley  Willamette Valley   \n",
       "3                Michigan  Lake Michigan Shore                NaN   \n",
       "4                  Oregon    Willamette Valley  Willamette Valley   \n",
       "...                   ...                  ...                ...   \n",
       "129966              Mosel                  NaN                NaN   \n",
       "129967             Oregon               Oregon       Oregon Other   \n",
       "129968             Alsace               Alsace                NaN   \n",
       "129969             Alsace               Alsace                NaN   \n",
       "129970             Alsace               Alsace                NaN   \n",
       "\n",
       "               taster_name taster_twitter_handle  \\\n",
       "0            Kerin O’Keefe          @kerinokeefe   \n",
       "1               Roger Voss            @vossroger   \n",
       "2             Paul Gregutt           @paulgwine    \n",
       "3       Alexander Peartree                   NaN   \n",
       "4             Paul Gregutt           @paulgwine    \n",
       "...                    ...                   ...   \n",
       "129966  Anna Lee C. Iijima                   NaN   \n",
       "129967        Paul Gregutt           @paulgwine    \n",
       "129968          Roger Voss            @vossroger   \n",
       "129969          Roger Voss            @vossroger   \n",
       "129970          Roger Voss            @vossroger   \n",
       "\n",
       "                                                    title         variety  \\\n",
       "0                       Nicosia 2013 Vulkà Bianco  (Etna)     White Blend   \n",
       "1           Quinta dos Avidagos 2011 Avidagos Red (Douro)  Portuguese Red   \n",
       "2           Rainstorm 2013 Pinot Gris (Willamette Valley)      Pinot Gris   \n",
       "3       St. Julian 2013 Reserve Late Harvest Riesling ...        Riesling   \n",
       "4       Sweet Cheeks 2012 Vintner's Reserve Wild Child...      Pinot Noir   \n",
       "...                                                   ...             ...   \n",
       "129966  Dr. H. Thanisch (Erben Müller-Burggraef) 2013 ...        Riesling   \n",
       "129967                  Citation 2004 Pinot Noir (Oregon)      Pinot Noir   \n",
       "129968  Domaine Gresser 2013 Kritt Gewurztraminer (Als...  Gewürztraminer   \n",
       "129969      Domaine Marcel Deiss 2012 Pinot Gris (Alsace)      Pinot Gris   \n",
       "129970  Domaine Schoffit 2012 Lieu-dit Harth Cuvée Car...  Gewürztraminer   \n",
       "\n",
       "                                          winery  \n",
       "0                                        Nicosia  \n",
       "1                            Quinta dos Avidagos  \n",
       "2                                      Rainstorm  \n",
       "3                                     St. Julian  \n",
       "4                                   Sweet Cheeks  \n",
       "...                                          ...  \n",
       "129966  Dr. H. Thanisch (Erben Müller-Burggraef)  \n",
       "129967                                  Citation  \n",
       "129968                           Domaine Gresser  \n",
       "129969                      Domaine Marcel Deiss  \n",
       "129970                          Domaine Schoffit  \n",
       "\n",
       "[129971 rows x 14 columns]"
      ]
     },
     "execution_count": 4,
     "metadata": {},
     "output_type": "execute_result"
    }
   ],
   "source": [
    "df"
   ]
  },
  {
   "cell_type": "raw",
   "id": "173022f6",
   "metadata": {},
   "source": [
    "Q. Print the names of all wines with a rating above 90"
   ]
  },
  {
   "cell_type": "code",
   "execution_count": 5,
   "id": "c2051aa5",
   "metadata": {},
   "outputs": [
    {
     "data": {
      "text/plain": [
       "119       Dopff & Irion 2004 Schoenenbourg Grand Cru Ven...\n",
       "120              Ceretto 2003 Bricco Rocche Prapó  (Barolo)\n",
       "121       Matrix 2007 Stuhlmuller Vineyard Chardonnay (A...\n",
       "122       Mauritson 2007 Rockpile Cemetary Vineyard Zinf...\n",
       "123       Henry's Drive Vignerons 2006 Parson's Flat Shi...\n",
       "                                ...                        \n",
       "129936     Bouchard Père & Fils 2005 Premier Cru  (Pommard)\n",
       "129937    Bründlmayer 2007 Langenloiser Berg-Vogelsang G...\n",
       "129938          Chakana 2006 Reserve Malbec (Luján de Cuyo)\n",
       "129939    Schloss Halbturn 2004 Grand Vin White (Burgenl...\n",
       "129940    Standish 2006 Watson Vineyard Chardonnay (Mend...\n",
       "Name: title, Length: 33635, dtype: object"
      ]
     },
     "execution_count": 5,
     "metadata": {},
     "output_type": "execute_result"
    }
   ],
   "source": [
    "x = df[df['points'] > 90]['title']\n",
    "x"
   ]
  },
  {
   "cell_type": "raw",
   "id": "4008aa73",
   "metadata": {},
   "source": [
    "Q. Sort and print the names of wines from Italy."
   ]
  },
  {
   "cell_type": "code",
   "execution_count": 6,
   "id": "92235173",
   "metadata": {},
   "outputs": [
    {
     "data": {
      "text/plain": [
       "0                         Nicosia 2013 Vulkà Bianco  (Etna)\n",
       "6          Terre di Giurfo 2013 Belsito Frappato (Vittoria)\n",
       "13                   Masseria Setteporte 2012 Rosso  (Etna)\n",
       "22        Baglio di Pianetto 2007 Ficiligno White (Sicilia)\n",
       "24              Canicattì 2009 Aynat Nero d'Avola (Sicilia)\n",
       "                                ...                        \n",
       "129929    Col Vetoraz Spumanti NV  Prosecco Superiore di...\n",
       "129943    Baglio del Cristo di Campobello 2012 Adènzia R...\n",
       "129947    Feudo Principi di Butera 2012 Symposio Red (Te...\n",
       "129961                          COS 2013 Frappato (Sicilia)\n",
       "129962    Cusumano 2012 Sàgana Tenuta San Giacomo Nero d...\n",
       "Name: title, Length: 19540, dtype: object"
      ]
     },
     "execution_count": 6,
     "metadata": {},
     "output_type": "execute_result"
    }
   ],
   "source": [
    "y=df[df['country']=='Italy']['title']\n",
    "y"
   ]
  },
  {
   "cell_type": "raw",
   "id": "45a9d4dd",
   "metadata": {},
   "source": [
    "Q. How many wines are there from France?"
   ]
  },
  {
   "cell_type": "code",
   "execution_count": 7,
   "id": "255f3d13",
   "metadata": {},
   "outputs": [
    {
     "data": {
      "text/plain": [
       "22093"
      ]
     },
     "execution_count": 7,
     "metadata": {},
     "output_type": "execute_result"
    }
   ],
   "source": [
    "z=df[df['country']=='France']\n",
    "count=len(z)\n",
    "count"
   ]
  },
  {
   "cell_type": "raw",
   "id": "cc1fb158",
   "metadata": {},
   "source": [
    "Q. Print the variety and price of wines (non-null values) with a rating above\n",
    "95."
   ]
  },
  {
   "cell_type": "code",
   "execution_count": 38,
   "id": "19cc91e1",
   "metadata": {},
   "outputs": [],
   "source": [
    "s= df[(df['price'] > 95) & df['price'].notnull()]\n"
   ]
  },
  {
   "cell_type": "code",
   "execution_count": 39,
   "id": "760ca7a5",
   "metadata": {},
   "outputs": [
    {
     "name": "stdout",
     "output_type": "stream",
     "text": [
      "                   variety  price\n",
      "60      Cabernet Sauvignon  100.0\n",
      "139             Pinot Gris  112.0\n",
      "284                 Malbec  215.0\n",
      "289     Cabernet Sauvignon  125.0\n",
      "345                 Muscat  350.0\n",
      "...                    ...    ...\n",
      "129811          Pinot Noir  100.0\n",
      "129818          Pinot Noir  115.0\n",
      "129891  Cabernet Sauvignon  100.0\n",
      "129919           Red Blend  105.0\n",
      "129931          Pinot Noir  107.0\n",
      "\n",
      "[4147 rows x 2 columns]\n"
     ]
    }
   ],
   "source": [
    "print(s[['variety', 'price']])"
   ]
  },
  {
   "cell_type": "raw",
   "id": "8d2080de",
   "metadata": {},
   "source": [
    "Q. How many wines are there with a price above $1000?"
   ]
  },
  {
   "cell_type": "code",
   "execution_count": 42,
   "id": "898802ff",
   "metadata": {},
   "outputs": [
    {
     "data": {
      "text/plain": [
       "14"
      ]
     },
     "execution_count": 42,
     "metadata": {},
     "output_type": "execute_result"
    }
   ],
   "source": [
    "r= df[df['price'] >1000]\n",
    "count=len(r)\n",
    "count"
   ]
  },
  {
   "cell_type": "raw",
   "id": "250da4ff",
   "metadata": {},
   "source": [
    "Q. How many wines are there with a price less than $10 and a rating above\n",
    "85?"
   ]
  },
  {
   "cell_type": "code",
   "execution_count": 47,
   "id": "d59fcd56",
   "metadata": {},
   "outputs": [
    {
     "data": {
      "text/plain": [
       "1008"
      ]
     },
     "execution_count": 47,
     "metadata": {},
     "output_type": "execute_result"
    }
   ],
   "source": [
    "l= df[(df['price'] <10) &(df['points']>85)]\n",
    "count=len(l)\n",
    "count"
   ]
  },
  {
   "cell_type": "raw",
   "id": "77066c56",
   "metadata": {},
   "source": [
    "Q. Print the names of wines with the word \"Reserve\" in their title"
   ]
  },
  {
   "cell_type": "code",
   "execution_count": 50,
   "id": "56af0555",
   "metadata": {},
   "outputs": [
    {
     "name": "stdout",
     "output_type": "stream",
     "text": [
      "3         St. Julian 2013 Reserve Late Harvest Riesling ...\n",
      "4         Sweet Cheeks 2012 Vintner's Reserve Wild Child...\n",
      "58        Tres Palacios 2011 Reserve Pinot Noir (Maipo V...\n",
      "94        Gård 2014 Grand Klasse Reserve Lawrence Vineya...\n",
      "125       Le Riche 2003 Cabernet Sauvignon Reserve Caber...\n",
      "                                ...                        \n",
      "129908    DeMorgenzon 2015 Reserve Chardonnay (Stellenbo...\n",
      "129916    Winkler-Hermaden 2006 Grauburgunder Reserve Gr...\n",
      "129919    Nicholas Cole Cellars 2004 Reserve Red (Walla ...\n",
      "129938          Chakana 2006 Reserve Malbec (Luján de Cuyo)\n",
      "129944    Barkan 2011 Special Reserve Winemakers' Choice...\n",
      "Name: title, Length: 5289, dtype: object\n"
     ]
    }
   ],
   "source": [
    "m=df[df['title'].str.contains('Reserve')]\n",
    "print(m['title'])"
   ]
  },
  {
   "cell_type": "raw",
   "id": "f5a93c13",
   "metadata": {},
   "source": [
    "Q. Print the names of wines with the lowest and highest prices"
   ]
  },
  {
   "cell_type": "code",
   "execution_count": 53,
   "id": "fe26701d",
   "metadata": {},
   "outputs": [],
   "source": [
    "lowest_price=df['price'].min()"
   ]
  },
  {
   "cell_type": "code",
   "execution_count": 54,
   "id": "2000e536",
   "metadata": {},
   "outputs": [
    {
     "name": "stdout",
     "output_type": "stream",
     "text": [
      "Lowest Price= 4.0\n"
     ]
    }
   ],
   "source": [
    "print('Lowest Price=',lowest_price)"
   ]
  },
  {
   "cell_type": "code",
   "execution_count": 55,
   "id": "c4847bb4",
   "metadata": {},
   "outputs": [],
   "source": [
    "highest_price=df['price'].max()"
   ]
  },
  {
   "cell_type": "code",
   "execution_count": 56,
   "id": "d6ee9129",
   "metadata": {},
   "outputs": [
    {
     "name": "stdout",
     "output_type": "stream",
     "text": [
      "Highest Price= 3300.0\n"
     ]
    }
   ],
   "source": [
    "print('Highest Price=',highest_price)"
   ]
  },
  {
   "cell_type": "raw",
   "id": "d331c3eb",
   "metadata": {},
   "source": [
    "Q. Find information about wines with the highest and lowest ratings."
   ]
  },
  {
   "cell_type": "code",
   "execution_count": 57,
   "id": "9db2105d",
   "metadata": {},
   "outputs": [
    {
     "data": {
      "text/plain": [
       "Unnamed: 0                                                               4\n",
       "country                                                                 US\n",
       "description              Much like the regular bottling from 2012, this...\n",
       "designation                             Vintner's Reserve Wild Child Block\n",
       "points                                                                  87\n",
       "price                                                                 65.0\n",
       "province                                                            Oregon\n",
       "region_1                                                 Willamette Valley\n",
       "region_2                                                 Willamette Valley\n",
       "taster_name                                                   Paul Gregutt\n",
       "taster_twitter_handle                                          @paulgwine \n",
       "title                    Sweet Cheeks 2012 Vintner's Reserve Wild Child...\n",
       "variety                                                         Pinot Noir\n",
       "winery                                                        Sweet Cheeks\n",
       "Name: 4, dtype: object"
      ]
     },
     "execution_count": 57,
     "metadata": {},
     "output_type": "execute_result"
    }
   ],
   "source": [
    "lowest_price=df['price'].min()\n",
    "c=df.loc[lowest_price]\n",
    "c"
   ]
  },
  {
   "cell_type": "code",
   "execution_count": 58,
   "id": "ef45c012",
   "metadata": {},
   "outputs": [
    {
     "data": {
      "text/plain": [
       "Unnamed: 0                                                            3300\n",
       "country                                                       South Africa\n",
       "description              The wines of Backsberg have a distinctive, art...\n",
       "designation                                                            NaN\n",
       "points                                                                  87\n",
       "price                                                                 13.0\n",
       "province                                                    Coastal Region\n",
       "region_1                                                               NaN\n",
       "region_2                                                               NaN\n",
       "taster_name                                                Susan Kostrzewa\n",
       "taster_twitter_handle                                        @suskostrzewa\n",
       "title                             Backsberg 2005 Pinotage (Coastal Region)\n",
       "variety                                                           Pinotage\n",
       "winery                                                           Backsberg\n",
       "Name: 3300, dtype: object"
      ]
     },
     "execution_count": 58,
     "metadata": {},
     "output_type": "execute_result"
    }
   ],
   "source": [
    "highest_price=df['price'].max()\n",
    "d=df.loc[highest_price]\n",
    "d"
   ]
  },
  {
   "cell_type": "raw",
   "id": "d00ea9a5",
   "metadata": {},
   "source": [
    "Q. Plot the distribution of wine ratings"
   ]
  },
  {
   "cell_type": "code",
   "execution_count": 63,
   "id": "a4eafbb2",
   "metadata": {},
   "outputs": [
    {
     "data": {
      "text/plain": [
       "Text(0.5, 1.0, 'Distribution of Wine Ratings')"
      ]
     },
     "execution_count": 63,
     "metadata": {},
     "output_type": "execute_result"
    },
    {
     "data": {
      "image/png": "[encoded data removed]",
      "text/plain": [
       "<Figure size 640x480 with 1 Axes>"
      ]
     },
     "metadata": {},
     "output_type": "display_data"
    }
   ],
   "source": [
    "plt.hist(df['points'],color='pink',edgecolor='black')\n",
    "plt.xlabel('Rating')\n",
    "plt.ylabel('Frequency')\n",
    "plt.title('Distribution of Wine Ratings')"
   ]
  }
 ],
 "metadata": {
  "kernelspec": {
   "display_name": "Python 3 (ipykernel)",
   "language": "python",
   "name": "python3"
  },
  "language_info": {
   "codemirror_mode": {
    "name": "ipython",
    "version": 3
   },
   "file_extension": ".py",
   "mimetype": "text/x-python",
   "name": "python",
   "nbconvert_exporter": "python",
   "pygments_lexer": "ipython3",
   "version": "3.11.7"
  }
 },
 "nbformat": 4,
 "nbformat_minor": 5
}
